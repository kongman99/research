{
 "cells": [
  {
   "cell_type": "code",
   "execution_count": 32,
   "metadata": {},
   "outputs": [
    {
     "name": "stdout",
     "output_type": "stream",
     "text": [
      "{'status': '1', 'message': 'OK', 'result': '15613827'}\n",
      "         eth_price   timestamp          norm\n",
      "0          1469.06  1663459200  4.513036e+17\n",
      "1          1469.06  1663459200  4.513036e+17\n",
      "2          1469.06  1663459200  4.513036e+17\n",
      "3          1469.06  1663459200  4.513036e+17\n",
      "4          1469.06  1663459200  4.513036e+17\n",
      "...            ...         ...           ...\n",
      "1157263    1294.64  1664150396           NaN\n",
      "1157264    1294.64  1664150397           NaN\n",
      "1157265    1294.65  1664150398           NaN\n",
      "1157266    1294.73  1664150398           NaN\n",
      "1157267    1294.58  1664150399           NaN\n",
      "\n",
      "[1157268 rows x 3 columns]\n"
     ]
    }
   ],
   "source": [
    "import pandas as pd\n",
    "\n",
    "from decimal import Decimal\n",
    "\n",
    "import web3\n",
    "import time\n",
    "import json\n",
    "from eth_abi import decode_abi\n",
    "import os\n",
    "import requests\n",
    "from dotenv import load_dotenv\n",
    "\n",
    "config= load_dotenv()\n",
    "\n",
    "w3 = web3.Web3(web3.Web3.WebsocketProvider(os.getenv(\"INFURA\")))    \n",
    "CONTROLLER_ADDRESS = \"0x64187ae08781B09368e6253F9E94951243A493D5\"\n",
    "CONTROLLER_ABI = '[{\"inputs\":[{\"internalType\":\"address\",\"name\":\"_oracle\",\"type\":\"address\"},{\"internalType\":\"address\",\"name\":\"_shortPowerPerp\",\"type\":\"address\"},{\"internalType\":\"address\",\"name\":\"_wPowerPerp\",\"type\":\"address\"},{\"internalType\":\"address\",\"name\":\"_weth\",\"type\":\"address\"},{\"internalType\":\"address\",\"name\":\"_quoteCurrency\",\"type\":\"address\"},{\"internalType\":\"address\",\"name\":\"_ethQuoteCurrencyPool\",\"type\":\"address\"},{\"internalType\":\"address\",\"name\":\"_wPowerPerpPool\",\"type\":\"address\"},{\"internalType\":\"address\",\"name\":\"_uniPositionManager\",\"type\":\"address\"},{\"internalType\":\"uint24\",\"name\":\"_feeTier\",\"type\":\"uint24\"}],\"stateMutability\":\"nonpayable\",\"type\":\"constructor\"},{\"anonymous\":false,\"inputs\":[{\"indexed\":false,\"internalType\":\"address\",\"name\":\"sender\",\"type\":\"address\"},{\"indexed\":false,\"internalType\":\"uint256\",\"name\":\"amount\",\"type\":\"uint256\"},{\"indexed\":false,\"internalType\":\"uint256\",\"name\":\"vaultId\",\"type\":\"uint256\"}],\"name\":\"BurnShort\",\"type\":\"event\"},{\"anonymous\":false,\"inputs\":[{\"indexed\":false,\"internalType\":\"address\",\"name\":\"sender\",\"type\":\"address\"},{\"indexed\":false,\"internalType\":\"uint256\",\"name\":\"vaultId\",\"type\":\"uint256\"},{\"indexed\":false,\"internalType\":\"uint256\",\"name\":\"amount\",\"type\":\"uint256\"}],\"name\":\"DepositCollateral\",\"type\":\"event\"},{\"anonymous\":false,\"inputs\":[{\"indexed\":false,\"internalType\":\"address\",\"name\":\"sender\",\"type\":\"address\"},{\"indexed\":false,\"internalType\":\"uint256\",\"name\":\"vaultId\",\"type\":\"uint256\"},{\"indexed\":false,\"internalType\":\"uint256\",\"name\":\"tokenId\",\"type\":\"uint256\"}],\"name\":\"DepositUniPositionToken\",\"type\":\"event\"},{\"anonymous\":false,\"inputs\":[{\"indexed\":false,\"internalType\":\"uint256\",\"name\":\"oldFee\",\"type\":\"uint256\"},{\"indexed\":false,\"internalType\":\"uint256\",\"name\":\"newFee\",\"type\":\"uint256\"}],\"name\":\"FeeRateUpdated\",\"type\":\"event\"},{\"anonymous\":false,\"inputs\":[{\"indexed\":false,\"internalType\":\"address\",\"name\":\"oldFeeRecipient\",\"type\":\"address\"},{\"indexed\":false,\"internalType\":\"address\",\"name\":\"newFeeRecipient\",\"type\":\"address\"}],\"name\":\"FeeRecipientUpdated\",\"type\":\"event\"},{\"anonymous\":false,\"inputs\":[{\"indexed\":false,\"internalType\":\"address\",\"name\":\"liquidator\",\"type\":\"address\"},{\"indexed\":false,\"internalType\":\"uint256\",\"name\":\"vaultId\",\"type\":\"uint256\"},{\"indexed\":false,\"internalType\":\"uint256\",\"name\":\"debtAmount\",\"type\":\"uint256\"},{\"indexed\":false,\"internalType\":\"uint256\",\"name\":\"collateralPaid\",\"type\":\"uint256\"}],\"name\":\"Liquidate\",\"type\":\"event\"},{\"anonymous\":false,\"inputs\":[{\"indexed\":false,\"internalType\":\"address\",\"name\":\"sender\",\"type\":\"address\"},{\"indexed\":false,\"internalType\":\"uint256\",\"name\":\"amount\",\"type\":\"uint256\"},{\"indexed\":false,\"internalType\":\"uint256\",\"name\":\"vaultId\",\"type\":\"uint256\"}],\"name\":\"MintShort\",\"type\":\"event\"},{\"anonymous\":false,\"inputs\":[{\"indexed\":false,\"internalType\":\"uint256\",\"name\":\"oldNormFactor\",\"type\":\"uint256\"},{\"indexed\":false,\"internalType\":\"uint256\",\"name\":\"newNormFactor\",\"type\":\"uint256\"},{\"indexed\":false,\"internalType\":\"uint256\",\"name\":\"lastModificationTimestamp\",\"type\":\"uint256\"},{\"indexed\":false,\"internalType\":\"uint256\",\"name\":\"timestamp\",\"type\":\"uint256\"}],\"name\":\"NormalizationFactorUpdated\",\"type\":\"event\"},{\"anonymous\":false,\"inputs\":[{\"indexed\":false,\"internalType\":\"address\",\"name\":\"sender\",\"type\":\"address\"},{\"indexed\":false,\"internalType\":\"uint256\",\"name\":\"vaultId\",\"type\":\"uint256\"}],\"name\":\"OpenVault\",\"type\":\"event\"},{\"anonymous\":false,\"inputs\":[{\"indexed\":true,\"internalType\":\"address\",\"name\":\"previousOwner\",\"type\":\"address\"},{\"indexed\":true,\"internalType\":\"address\",\"name\":\"newOwner\",\"type\":\"address\"}],\"name\":\"OwnershipTransferred\",\"type\":\"event\"},{\"anonymous\":false,\"inputs\":[{\"indexed\":false,\"internalType\":\"uint256\",\"name\":\"pausesLeft\",\"type\":\"uint256\"}],\"name\":\"Paused\",\"type\":\"event\"},{\"anonymous\":false,\"inputs\":[{\"indexed\":false,\"internalType\":\"address\",\"name\":\"sender\",\"type\":\"address\"},{\"indexed\":false,\"internalType\":\"uint256\",\"name\":\"wPowerPerpAmount\",\"type\":\"uint256\"},{\"indexed\":false,\"internalType\":\"uint256\",\"name\":\"payoutAmount\",\"type\":\"uint256\"}],\"name\":\"RedeemLong\",\"type\":\"event\"},{\"anonymous\":false,\"inputs\":[{\"indexed\":false,\"internalType\":\"address\",\"name\":\"sender\",\"type\":\"address\"},{\"indexed\":false,\"internalType\":\"uint256\",\"name\":\"vauldId\",\"type\":\"uint256\"},{\"indexed\":false,\"internalType\":\"uint256\",\"name\":\"collateralAmount\",\"type\":\"uint256\"}],\"name\":\"RedeemShort\",\"type\":\"event\"},{\"anonymous\":false,\"inputs\":[{\"indexed\":false,\"internalType\":\"address\",\"name\":\"sender\",\"type\":\"address\"},{\"indexed\":false,\"internalType\":\"uint256\",\"name\":\"vaultId\",\"type\":\"uint256\"},{\"indexed\":false,\"internalType\":\"uint256\",\"name\":\"ethRedeemed\",\"type\":\"uint256\"},{\"indexed\":false,\"internalType\":\"uint256\",\"name\":\"wPowerPerpRedeemed\",\"type\":\"uint256\"},{\"indexed\":false,\"internalType\":\"uint256\",\"name\":\"wPowerPerpBurned\",\"type\":\"uint256\"},{\"indexed\":false,\"internalType\":\"uint256\",\"name\":\"wPowerPerpExcess\",\"type\":\"uint256\"},{\"indexed\":false,\"internalType\":\"uint256\",\"name\":\"bounty\",\"type\":\"uint256\"}],\"name\":\"ReduceDebt\",\"type\":\"event\"},{\"anonymous\":false,\"inputs\":[{\"indexed\":false,\"internalType\":\"uint256\",\"name\":\"indexForSettlement\",\"type\":\"uint256\"}],\"name\":\"Shutdown\",\"type\":\"event\"},{\"anonymous\":false,\"inputs\":[{\"indexed\":false,\"internalType\":\"address\",\"name\":\"unpauser\",\"type\":\"address\"}],\"name\":\"UnPaused\",\"type\":\"event\"},{\"anonymous\":false,\"inputs\":[{\"indexed\":false,\"internalType\":\"address\",\"name\":\"sender\",\"type\":\"address\"},{\"indexed\":false,\"internalType\":\"uint256\",\"name\":\"vaultId\",\"type\":\"uint256\"},{\"indexed\":false,\"internalType\":\"address\",\"name\":\"operator\",\"type\":\"address\"}],\"name\":\"UpdateOperator\",\"type\":\"event\"},{\"anonymous\":false,\"inputs\":[{\"indexed\":false,\"internalType\":\"address\",\"name\":\"sender\",\"type\":\"address\"},{\"indexed\":false,\"internalType\":\"uint256\",\"name\":\"vaultId\",\"type\":\"uint256\"},{\"indexed\":false,\"internalType\":\"uint256\",\"name\":\"amount\",\"type\":\"uint256\"}],\"name\":\"WithdrawCollateral\",\"type\":\"event\"},{\"anonymous\":false,\"inputs\":[{\"indexed\":false,\"internalType\":\"address\",\"name\":\"sender\",\"type\":\"address\"},{\"indexed\":false,\"internalType\":\"uint256\",\"name\":\"vaultId\",\"type\":\"uint256\"},{\"indexed\":false,\"internalType\":\"uint256\",\"name\":\"tokenId\",\"type\":\"uint256\"}],\"name\":\"WithdrawUniPositionToken\",\"type\":\"event\"},{\"inputs\":[],\"name\":\"FUNDING_PERIOD\",\"outputs\":[{\"internalType\":\"uint256\",\"name\":\"\",\"type\":\"uint256\"}],\"stateMutability\":\"view\",\"type\":\"function\"},{\"inputs\":[],\"name\":\"TWAP_PERIOD\",\"outputs\":[{\"internalType\":\"uint32\",\"name\":\"\",\"type\":\"uint32\"}],\"stateMutability\":\"view\",\"type\":\"function\"},{\"inputs\":[],\"name\":\"applyFunding\",\"outputs\":[],\"stateMutability\":\"nonpayable\",\"type\":\"function\"},{\"inputs\":[{\"internalType\":\"uint256\",\"name\":\"_vaultId\",\"type\":\"uint256\"},{\"internalType\":\"uint256\",\"name\":\"_powerPerpAmount\",\"type\":\"uint256\"},{\"internalType\":\"uint256\",\"name\":\"_withdrawAmount\",\"type\":\"uint256\"}],\"name\":\"burnPowerPerpAmount\",\"outputs\":[{\"internalType\":\"uint256\",\"name\":\"\",\"type\":\"uint256\"}],\"stateMutability\":\"nonpayable\",\"type\":\"function\"},{\"inputs\":[{\"internalType\":\"uint256\",\"name\":\"_vaultId\",\"type\":\"uint256\"},{\"internalType\":\"uint256\",\"name\":\"_wPowerPerpAmount\",\"type\":\"uint256\"},{\"internalType\":\"uint256\",\"name\":\"_withdrawAmount\",\"type\":\"uint256\"}],\"name\":\"burnWPowerPerpAmount\",\"outputs\":[],\"stateMutability\":\"nonpayable\",\"type\":\"function\"},{\"inputs\":[{\"internalType\":\"uint256\",\"name\":\"_vaultId\",\"type\":\"uint256\"}],\"name\":\"deposit\",\"outputs\":[],\"stateMutability\":\"payable\",\"type\":\"function\"},{\"inputs\":[{\"internalType\":\"uint256\",\"name\":\"_vaultId\",\"type\":\"uint256\"},{\"internalType\":\"uint256\",\"name\":\"_uniTokenId\",\"type\":\"uint256\"}],\"name\":\"depositUniPositionToken\",\"outputs\":[],\"stateMutability\":\"nonpayable\",\"type\":\"function\"},{\"inputs\":[],\"name\":\"donate\",\"outputs\":[],\"stateMutability\":\"payable\",\"type\":\"function\"},{\"inputs\":[],\"name\":\"ethQuoteCurrencyPool\",\"outputs\":[{\"internalType\":\"address\",\"name\":\"\",\"type\":\"address\"}],\"stateMutability\":\"view\",\"type\":\"function\"},{\"inputs\":[],\"name\":\"feeRate\",\"outputs\":[{\"internalType\":\"uint256\",\"name\":\"\",\"type\":\"uint256\"}],\"stateMutability\":\"view\",\"type\":\"function\"},{\"inputs\":[],\"name\":\"feeRecipient\",\"outputs\":[{\"internalType\":\"address\",\"name\":\"\",\"type\":\"address\"}],\"stateMutability\":\"view\",\"type\":\"function\"},{\"inputs\":[],\"name\":\"feeTier\",\"outputs\":[{\"internalType\":\"uint24\",\"name\":\"\",\"type\":\"uint24\"}],\"stateMutability\":\"view\",\"type\":\"function\"},{\"inputs\":[{\"internalType\":\"uint32\",\"name\":\"_period\",\"type\":\"uint32\"}],\"name\":\"getDenormalizedMark\",\"outputs\":[{\"internalType\":\"uint256\",\"name\":\"\",\"type\":\"uint256\"}],\"stateMutability\":\"view\",\"type\":\"function\"},{\"inputs\":[{\"internalType\":\"uint32\",\"name\":\"_period\",\"type\":\"uint32\"}],\"name\":\"getDenormalizedMarkForFunding\",\"outputs\":[{\"internalType\":\"uint256\",\"name\":\"\",\"type\":\"uint256\"}],\"stateMutability\":\"view\",\"type\":\"function\"},{\"inputs\":[],\"name\":\"getExpectedNormalizationFactor\",\"outputs\":[{\"internalType\":\"uint256\",\"name\":\"\",\"type\":\"uint256\"}],\"stateMutability\":\"view\",\"type\":\"function\"},{\"inputs\":[{\"internalType\":\"uint32\",\"name\":\"_period\",\"type\":\"uint32\"}],\"name\":\"getIndex\",\"outputs\":[{\"internalType\":\"uint256\",\"name\":\"\",\"type\":\"uint256\"}],\"stateMutability\":\"view\",\"type\":\"function\"},{\"inputs\":[{\"internalType\":\"uint32\",\"name\":\"_period\",\"type\":\"uint32\"}],\"name\":\"getUnscaledIndex\",\"outputs\":[{\"internalType\":\"uint256\",\"name\":\"\",\"type\":\"uint256\"}],\"stateMutability\":\"view\",\"type\":\"function\"},{\"inputs\":[],\"name\":\"indexForSettlement\",\"outputs\":[{\"internalType\":\"uint256\",\"name\":\"\",\"type\":\"uint256\"}],\"stateMutability\":\"view\",\"type\":\"function\"},{\"inputs\":[],\"name\":\"isShutDown\",\"outputs\":[{\"internalType\":\"bool\",\"name\":\"\",\"type\":\"bool\"}],\"stateMutability\":\"view\",\"type\":\"function\"},{\"inputs\":[],\"name\":\"isSystemPaused\",\"outputs\":[{\"internalType\":\"bool\",\"name\":\"\",\"type\":\"bool\"}],\"stateMutability\":\"view\",\"type\":\"function\"},{\"inputs\":[{\"internalType\":\"uint256\",\"name\":\"_vaultId\",\"type\":\"uint256\"}],\"name\":\"isVaultSafe\",\"outputs\":[{\"internalType\":\"bool\",\"name\":\"\",\"type\":\"bool\"}],\"stateMutability\":\"view\",\"type\":\"function\"},{\"inputs\":[],\"name\":\"lastFundingUpdateTimestamp\",\"outputs\":[{\"internalType\":\"uint128\",\"name\":\"\",\"type\":\"uint128\"}],\"stateMutability\":\"view\",\"type\":\"function\"},{\"inputs\":[],\"name\":\"lastPauseTime\",\"outputs\":[{\"internalType\":\"uint256\",\"name\":\"\",\"type\":\"uint256\"}],\"stateMutability\":\"view\",\"type\":\"function\"},{\"inputs\":[{\"internalType\":\"uint256\",\"name\":\"_vaultId\",\"type\":\"uint256\"},{\"internalType\":\"uint256\",\"name\":\"_maxDebtAmount\",\"type\":\"uint256\"}],\"name\":\"liquidate\",\"outputs\":[{\"internalType\":\"uint256\",\"name\":\"\",\"type\":\"uint256\"}],\"stateMutability\":\"nonpayable\",\"type\":\"function\"},{\"inputs\":[{\"internalType\":\"uint256\",\"name\":\"_vaultId\",\"type\":\"uint256\"},{\"internalType\":\"uint256\",\"name\":\"_powerPerpAmount\",\"type\":\"uint256\"},{\"internalType\":\"uint256\",\"name\":\"_uniTokenId\",\"type\":\"uint256\"}],\"name\":\"mintPowerPerpAmount\",\"outputs\":[{\"internalType\":\"uint256\",\"name\":\"\",\"type\":\"uint256\"},{\"internalType\":\"uint256\",\"name\":\"\",\"type\":\"uint256\"}],\"stateMutability\":\"payable\",\"type\":\"function\"},{\"inputs\":[{\"internalType\":\"uint256\",\"name\":\"_vaultId\",\"type\":\"uint256\"},{\"internalType\":\"uint256\",\"name\":\"_wPowerPerpAmount\",\"type\":\"uint256\"},{\"internalType\":\"uint256\",\"name\":\"_uniTokenId\",\"type\":\"uint256\"}],\"name\":\"mintWPowerPerpAmount\",\"outputs\":[{\"internalType\":\"uint256\",\"name\":\"\",\"type\":\"uint256\"}],\"stateMutability\":\"payable\",\"type\":\"function\"},{\"inputs\":[],\"name\":\"normalizationFactor\",\"outputs\":[{\"internalType\":\"uint128\",\"name\":\"\",\"type\":\"uint128\"}],\"stateMutability\":\"view\",\"type\":\"function\"},{\"inputs\":[{\"internalType\":\"address\",\"name\":\"\",\"type\":\"address\"},{\"internalType\":\"address\",\"name\":\"\",\"type\":\"address\"},{\"internalType\":\"uint256\",\"name\":\"\",\"type\":\"uint256\"},{\"internalType\":\"bytes\",\"name\":\"\",\"type\":\"bytes\"}],\"name\":\"onERC721Received\",\"outputs\":[{\"internalType\":\"bytes4\",\"name\":\"\",\"type\":\"bytes4\"}],\"stateMutability\":\"nonpayable\",\"type\":\"function\"},{\"inputs\":[],\"name\":\"oracle\",\"outputs\":[{\"internalType\":\"address\",\"name\":\"\",\"type\":\"address\"}],\"stateMutability\":\"view\",\"type\":\"function\"},{\"inputs\":[],\"name\":\"owner\",\"outputs\":[{\"internalType\":\"address\",\"name\":\"\",\"type\":\"address\"}],\"stateMutability\":\"view\",\"type\":\"function\"},{\"inputs\":[],\"name\":\"pause\",\"outputs\":[],\"stateMutability\":\"nonpayable\",\"type\":\"function\"},{\"inputs\":[],\"name\":\"pausesLeft\",\"outputs\":[{\"internalType\":\"uint256\",\"name\":\"\",\"type\":\"uint256\"}],\"stateMutability\":\"view\",\"type\":\"function\"},{\"inputs\":[],\"name\":\"quoteCurrency\",\"outputs\":[{\"internalType\":\"address\",\"name\":\"\",\"type\":\"address\"}],\"stateMutability\":\"view\",\"type\":\"function\"},{\"inputs\":[{\"internalType\":\"uint256\",\"name\":\"_wPerpAmount\",\"type\":\"uint256\"}],\"name\":\"redeemLong\",\"outputs\":[],\"stateMutability\":\"nonpayable\",\"type\":\"function\"},{\"inputs\":[{\"internalType\":\"uint256\",\"name\":\"_vaultId\",\"type\":\"uint256\"}],\"name\":\"redeemShort\",\"outputs\":[],\"stateMutability\":\"nonpayable\",\"type\":\"function\"},{\"inputs\":[{\"internalType\":\"uint256\",\"name\":\"_vaultId\",\"type\":\"uint256\"}],\"name\":\"reduceDebt\",\"outputs\":[],\"stateMutability\":\"nonpayable\",\"type\":\"function\"},{\"inputs\":[{\"internalType\":\"uint256\",\"name\":\"_vaultId\",\"type\":\"uint256\"}],\"name\":\"reduceDebtShutdown\",\"outputs\":[],\"stateMutability\":\"nonpayable\",\"type\":\"function\"},{\"inputs\":[],\"name\":\"renounceOwnership\",\"outputs\":[],\"stateMutability\":\"nonpayable\",\"type\":\"function\"},{\"inputs\":[{\"internalType\":\"uint256\",\"name\":\"_newFeeRate\",\"type\":\"uint256\"}],\"name\":\"setFeeRate\",\"outputs\":[],\"stateMutability\":\"nonpayable\",\"type\":\"function\"},{\"inputs\":[{\"internalType\":\"address\",\"name\":\"_newFeeRecipient\",\"type\":\"address\"}],\"name\":\"setFeeRecipient\",\"outputs\":[],\"stateMutability\":\"nonpayable\",\"type\":\"function\"},{\"inputs\":[],\"name\":\"shortPowerPerp\",\"outputs\":[{\"internalType\":\"address\",\"name\":\"\",\"type\":\"address\"}],\"stateMutability\":\"view\",\"type\":\"function\"},{\"inputs\":[],\"name\":\"shutDown\",\"outputs\":[],\"stateMutability\":\"nonpayable\",\"type\":\"function\"},{\"inputs\":[{\"internalType\":\"address\",\"name\":\"newOwner\",\"type\":\"address\"}],\"name\":\"transferOwnership\",\"outputs\":[],\"stateMutability\":\"nonpayable\",\"type\":\"function\"},{\"inputs\":[],\"name\":\"unPauseAnyone\",\"outputs\":[],\"stateMutability\":\"nonpayable\",\"type\":\"function\"},{\"inputs\":[],\"name\":\"unPauseOwner\",\"outputs\":[],\"stateMutability\":\"nonpayable\",\"type\":\"function\"},{\"inputs\":[{\"internalType\":\"uint256\",\"name\":\"_vaultId\",\"type\":\"uint256\"},{\"internalType\":\"address\",\"name\":\"_operator\",\"type\":\"address\"}],\"name\":\"updateOperator\",\"outputs\":[],\"stateMutability\":\"nonpayable\",\"type\":\"function\"},{\"inputs\":[{\"internalType\":\"uint256\",\"name\":\"\",\"type\":\"uint256\"}],\"name\":\"vaults\",\"outputs\":[{\"internalType\":\"address\",\"name\":\"operator\",\"type\":\"address\"},{\"internalType\":\"uint32\",\"name\":\"NftCollateralId\",\"type\":\"uint32\"},{\"internalType\":\"uint96\",\"name\":\"collateralAmount\",\"type\":\"uint96\"},{\"internalType\":\"uint128\",\"name\":\"shortAmount\",\"type\":\"uint128\"}],\"stateMutability\":\"view\",\"type\":\"function\"},{\"inputs\":[],\"name\":\"wPowerPerp\",\"outputs\":[{\"internalType\":\"address\",\"name\":\"\",\"type\":\"address\"}],\"stateMutability\":\"view\",\"type\":\"function\"},{\"inputs\":[],\"name\":\"wPowerPerpPool\",\"outputs\":[{\"internalType\":\"address\",\"name\":\"\",\"type\":\"address\"}],\"stateMutability\":\"view\",\"type\":\"function\"},{\"inputs\":[],\"name\":\"weth\",\"outputs\":[{\"internalType\":\"address\",\"name\":\"\",\"type\":\"address\"}],\"stateMutability\":\"view\",\"type\":\"function\"},{\"inputs\":[{\"internalType\":\"uint256\",\"name\":\"_vaultId\",\"type\":\"uint256\"},{\"internalType\":\"uint256\",\"name\":\"_amount\",\"type\":\"uint256\"}],\"name\":\"withdraw\",\"outputs\":[],\"stateMutability\":\"nonpayable\",\"type\":\"function\"},{\"inputs\":[{\"internalType\":\"uint256\",\"name\":\"_vaultId\",\"type\":\"uint256\"}],\"name\":\"withdrawUniPositionToken\",\"outputs\":[],\"stateMutability\":\"nonpayable\",\"type\":\"function\"},{\"stateMutability\":\"payable\",\"type\":\"receive\"}]'\n",
    "ETHER_API_TOKEN = os.getenv('ETHER_API_TOKEN')\n",
    "\n",
    "block = requests.get(f\"https://api.etherscan.io/api?module=block&action=getblocknobytime&timestamp={1664150399}&closest=before&apikey={ETHER_API_TOKEN}\")\n",
    "print(block.json())\n",
    "class Filterer:\n",
    "    def get_filter_log(self, ):\n",
    "        # get reserves @ starting block \n",
    "        df = pd.DataFrame()\n",
    "        start= 15558353\n",
    "        end = 15613827\n",
    "        controller = w3.eth.contract(address=CONTROLLER_ADDRESS, abi=json.loads(CONTROLLER_ABI))\n",
    "\n",
    "\n",
    "        event_signature_hash = w3.keccak(text=\"NormalizationFactorUpdated(uint256,uint256,uint256,uint256)\").hex()\n",
    "        event_filter = w3.eth.filter({\n",
    "        \"fromBlock\":start,\n",
    "        \"toBlock\":end,\n",
    "        \"address\": CONTROLLER_ADDRESS ,\n",
    "        \"topics\": [event_signature_hash],\n",
    "        })\n",
    "\n",
    "        event = event_filter.get_all_entries()\n",
    "        for i in range(len(event)):\n",
    "            data = bytes.fromhex(event[i][\"data\"][2:])\n",
    "\n",
    "            decodedABI = decode_abi(['uint256', 'uint256','uint256','uint256'], data)\n",
    "\n",
    "            df = df.append(pd.DataFrame([{\"norm\":decodedABI[1],\"timestamp\":decodedABI[3]}]))\n",
    "\n",
    "        return df\n",
    "\n",
    "\n",
    "df = Filterer().get_filter_log()\n",
    "df.to_csv(\"event_log.csv\",index=False)\n",
    "df1 = pd.concat(\n",
    "    map(pd.read_csv,[f\"./datasets/deribit_derivative_ticker_2022-09-{i}_ETH-PERPETUAL.csv\" for i in range(18,26)]), ignore_index=True)\n",
    "df1 = df1[[\"index_price\",\"timestamp\"]]\n",
    "df1.rename(columns = {\"index_price\":\"eth_price\"},inplace=True)\n",
    "df1[\"timestamp\"] = (df1[\"timestamp\"]/1000000).astype(int)\n",
    "df2 = pd.merge_asof(df1,df , on='timestamp', direction='forward')\n",
    "print(df2)\n"
   ]
  },
  {
   "cell_type": "code",
   "execution_count": 45,
   "metadata": {},
   "outputs": [
    {
     "name": "stdout",
     "output_type": "stream",
     "text": [
      "Empty DataFrame\n",
      "Columns: [eth_price, timestamp, norm]\n",
      "Index: []\n"
     ]
    }
   ],
   "source": [
    "import math\n",
    "for i in range(1,len(df2)):\n",
    "    if math.isnan(df2.loc[i,\"norm\"]):\n",
    "        df2.loc[i,\"norm\"] = df2.loc[i-1,\"norm\"]\n",
    "print(df2.loc[df2[\"norm\"].isnull()])"
   ]
  },
  {
   "cell_type": "code",
   "execution_count": 47,
   "metadata": {},
   "outputs": [
    {
     "name": "stdout",
     "output_type": "stream",
     "text": [
      "         eth_price   timestamp          norm\n",
      "0          1469.06  1663459200  4.513036e+17\n",
      "1          1469.06  1663459200  4.513036e+17\n",
      "2          1469.06  1663459200  4.513036e+17\n",
      "3          1469.06  1663459200  4.513036e+17\n",
      "4          1469.06  1663459200  4.513036e+17\n",
      "...            ...         ...           ...\n",
      "1157263    1294.64  1664150396  4.418378e+17\n",
      "1157264    1294.64  1664150397  4.418378e+17\n",
      "1157265    1294.65  1664150398  4.418378e+17\n",
      "1157266    1294.73  1664150398  4.418378e+17\n",
      "1157267    1294.58  1664150399  4.418378e+17\n",
      "\n",
      "[1157268 rows x 3 columns]\n"
     ]
    }
   ],
   "source": [
    "print(df2)\n",
    "df2.to_csv(\"event_log_eth_price.csv\",index=False)"
   ]
  },
  {
   "cell_type": "code",
   "execution_count": 54,
   "metadata": {},
   "outputs": [
    {
     "name": "stdout",
     "output_type": "stream",
     "text": [
      "1663478915\n",
      "         eth_price   timestamp          norm\n",
      "19692      1455.25  1663478917  4.513005e+17\n",
      "19693      1455.24  1663478918  4.513005e+17\n",
      "19694      1455.24  1663478919  4.513005e+17\n",
      "19695      1455.26  1663478922  4.513005e+17\n",
      "19696      1455.23  1663478923  4.513005e+17\n",
      "...            ...         ...           ...\n",
      "1157263    1294.64  1664150396  4.418378e+17\n",
      "1157264    1294.64  1664150397  4.418378e+17\n",
      "1157265    1294.65  1664150398  4.418378e+17\n",
      "1157266    1294.73  1664150398  4.418378e+17\n",
      "1157267    1294.58  1664150399  4.418378e+17\n",
      "\n",
      "[1137576 rows x 3 columns]\n"
     ]
    }
   ],
   "source": [
    "block = w3.eth.get_block(15558353).timestamp\n",
    "print(block)\n",
    "df3 = df2.loc[df2[\"timestamp\"] >= block]\n",
    "df3.to_csv(\"event_log_eth_price.csv\",index=False)\n",
    "print(df3)"
   ]
  },
  {
   "cell_type": "code",
   "execution_count": 75,
   "metadata": {},
   "outputs": [
    {
     "name": "stdout",
     "output_type": "stream",
     "text": [
      "            timestamp      o      h      l      c\n",
      "0       1664149397000  99.00  99.00  99.00  99.00\n",
      "1       1664149398000  99.00  99.00  99.00  99.00\n",
      "2       1664149399000  99.00  99.00  99.00  99.00\n",
      "3       1664149400000  99.00  99.00  99.00  99.00\n",
      "4       1664149401000  99.00  99.00  99.00  99.00\n",
      "...               ...    ...    ...    ...    ...\n",
      "668958  1663479878000  92.87  92.87  92.87  92.87\n",
      "668959  1663479879000  92.87  92.87  92.87  92.87\n",
      "668960  1663479880000  92.87  92.87  92.87  92.87\n",
      "668961  1663479881000  92.87  92.87  92.87  92.87\n",
      "668962  1663479882000  92.87  92.87  92.87  92.87\n",
      "\n",
      "[668963 rows x 5 columns]\n",
      "         timestamp      c\n",
      "668000  1663478917  92.83\n",
      "668001  1663478918  92.83\n",
      "668002  1663478919  92.83\n",
      "668003  1663478920  92.83\n",
      "668004  1663478921  92.83\n",
      "...            ...    ...\n",
      "995     1664150395  98.60\n",
      "996     1664150396  98.60\n",
      "997     1664150397  98.60\n",
      "998     1664150398  98.60\n",
      "999     1664150399  98.60\n",
      "\n",
      "[668963 rows x 2 columns]\n"
     ]
    }
   ],
   "source": [
    "\n",
    "import json\n",
    "from typing import Optional, Dict, Any, List\n",
    "from requests import Request, Session, Response\n",
    "import pandas as pd\n",
    "\n",
    "\n",
    "class Deribit:\n",
    "    _ENDPOINT = 'https://www.deribit.com/api/v2'\n",
    "\n",
    "    def __init__(self, api_key=None, api_secret=None, subaccount_name=None) -> None:\n",
    "        self._session = Session()\n",
    "        self._api_key = api_key\n",
    "        self._api_secret = api_secret\n",
    "        self._subaccount_name = subaccount_name\n",
    "\n",
    "    def _get(self, path: str, params: Optional[Dict[str, Any]] = None) -> Any:\n",
    "        return self._request('GET', path, params=params)\n",
    "\n",
    "    def _post(self, path: str, params: Optional[Dict[str, Any]] = None) -> Any:\n",
    "        return self._request('POST', path, json=params)\n",
    "\n",
    "    def _delete(self, path: str, params: Optional[Dict[str, Any]] = None) -> Any:\n",
    "        return self._request('DELETE', path, json=params)\n",
    "\n",
    "    def _request(self, method: str, path: str, **kwargs) -> Any:\n",
    "        request = Request(method, self._ENDPOINT + path, **kwargs)\n",
    "        response = self._session.send(request.prepare())\n",
    "        return self._process_response(response)\n",
    "    def _process_response(self, response: Response) -> Any:\n",
    "        try:\n",
    "            data = response.json()\n",
    "        except ValueError:\n",
    "            response.raise_for_status()\n",
    "            raise\n",
    "        else:\n",
    "            return data\n",
    "\n",
    "    def get_dvol(self, market: str, start_time: float = None, end_time: float = None) -> List:\n",
    "        df = pd.DataFrame()\n",
    "        while True:\n",
    "            response = self._get(f'/public/get_volatility_index_data', {\n",
    "                'end_timestamp': end_time,\n",
    "                'start_timestamp': start_time,\n",
    "                'resolution':1,\n",
    "                \"currency\":market,\n",
    "            })\n",
    "            df = df.append(pd.DataFrame(response[\"result\"][\"data\"],columns=[\"ts\",\"o\",\"h\",\"l\",\"c\"]))\n",
    "            print(f'Adding {len(response)} trades with end time {end_time}')\n",
    "            \n",
    "            end_time = response[\"result\"]['continuation']\n",
    "            \n",
    "            if len(response) == 0 or start_time == end_time or end_time==None:\n",
    "                break\n",
    "        return df\n",
    "# d = Deribit()\n",
    "# df = d.get_all_trades(\"ETH\",1663478917000,1664150399000)\n",
    "df3 = pd.read_csv(\"dvol.csv\")\n",
    "df3.drop(columns=df3.columns[0],inplace=True)\n",
    "df3.rename({\"ts\":\"timestamp\"},axis=1,inplace=True)\n",
    "print(df3)\n",
    "df3 = df3[[\"timestamp\",\"c\"]]\n",
    "df3[\"timestamp\"] = (df3[\"timestamp\"]/1000).astype(int)\n",
    "df3.sort_values(by=['timestamp'],inplace=True)\n",
    "df3 = df3.loc[df3[\"timestamp\"] >= block]\n",
    "print(df3)"
   ]
  },
  {
   "cell_type": "code",
   "execution_count": 76,
   "metadata": {},
   "outputs": [
    {
     "name": "stdout",
     "output_type": "stream",
     "text": [
      "         eth_price   timestamp          norm      c\n",
      "0          1469.06  1663459200  4.513036e+17  92.83\n",
      "1          1469.06  1663459200  4.513036e+17  92.83\n",
      "2          1469.06  1663459200  4.513036e+17  92.83\n",
      "3          1469.06  1663459200  4.513036e+17  92.83\n",
      "4          1469.06  1663459200  4.513036e+17  92.83\n",
      "...            ...         ...           ...    ...\n",
      "1157263    1294.64  1664150396  4.418378e+17  98.60\n",
      "1157264    1294.64  1664150397  4.418378e+17  98.60\n",
      "1157265    1294.65  1664150398  4.418378e+17  98.60\n",
      "1157266    1294.73  1664150398  4.418378e+17  98.60\n",
      "1157267    1294.58  1664150399  4.418378e+17  98.60\n",
      "\n",
      "[1157268 rows x 4 columns]\n"
     ]
    }
   ],
   "source": [
    "df4 = pd.merge_asof(df2,df3 , on='timestamp', direction='forward')\n",
    "print(df4)"
   ]
  },
  {
   "cell_type": "code",
   "execution_count": 77,
   "metadata": {},
   "outputs": [],
   "source": [
    "df4.to_csv(\"event_log_price_iv.csv\",index=False)"
   ]
  },
  {
   "cell_type": "code",
   "execution_count": null,
   "metadata": {},
   "outputs": [],
   "source": []
  }
 ],
 "metadata": {
  "kernelspec": {
   "display_name": "Python 3",
   "language": "python",
   "name": "python3"
  },
  "language_info": {
   "codemirror_mode": {
    "name": "ipython",
    "version": 3
   },
   "file_extension": ".py",
   "mimetype": "text/x-python",
   "name": "python",
   "nbconvert_exporter": "python",
   "pygments_lexer": "ipython3",
   "version": "3.8.5"
  }
 },
 "nbformat": 4,
 "nbformat_minor": 4
}
